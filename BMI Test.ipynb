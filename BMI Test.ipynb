{
 "cells": [
  {
   "cell_type": "code",
   "execution_count": 25,
   "metadata": {},
   "outputs": [
    {
     "name": "stdout",
     "output_type": "stream",
     "text": [
      "Input your height in meter: 1.75\n",
      "Input your weight in kilogram: 120\n",
      "obesity\n",
      "yourNormalweight is75.0\n",
      "for ideal bmi you shuld less 45.0Kg\n"
     ]
    }
   ],
   "source": [
    "height = float(input(\"Input your height in meter: \"))\n",
    "weight = float(input(\"Input your weight in kilogram: \"))\n",
    "bmi=( round(weight / (height * height), 2))\n",
    "normalweight=((height*100)-(100))\n",
    "a=(\"yourNormalweight is{}\")\n",
    "b=(\"for ideal bmi you shuld less {}Kg\")\n",
    "c=(weight-normalweight)\n",
    "if bmi<18.5:\n",
    "    print(\"under wight\")\n",
    "elif 18.5<=bmi<=24.9:\n",
    "    print(\"normal weight\")\n",
    "elif 25<=bmi<=29.9:\n",
    "    print(\"over weight\")\n",
    "    print(a.format(normalweight))\n",
    "    print(b.format(c))\n",
    "elif 30<=bmi:\n",
    "    print(\"obesity\")\n",
    "    print(a.format(normalweight))\n",
    "    print(b.format(c))\n"
   ]
  },
  {
   "cell_type": "code",
   "execution_count": 12,
   "metadata": {},
   "outputs": [
    {
     "name": "stdout",
     "output_type": "stream",
     "text": [
      "normal weight\n"
     ]
    }
   ],
   "source": []
  },
  {
   "cell_type": "code",
   "execution_count": null,
   "metadata": {},
   "outputs": [],
   "source": []
  }
 ],
 "metadata": {
  "kernelspec": {
   "display_name": "Python 3",
   "language": "python",
   "name": "python3"
  },
  "language_info": {
   "codemirror_mode": {
    "name": "ipython",
    "version": 3
   },
   "file_extension": ".py",
   "mimetype": "text/x-python",
   "name": "python",
   "nbconvert_exporter": "python",
   "pygments_lexer": "ipython3",
   "version": "3.7.4"
  }
 },
 "nbformat": 4,
 "nbformat_minor": 2
}
